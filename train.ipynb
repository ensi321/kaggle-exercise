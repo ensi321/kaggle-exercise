{
 "cells": [
  {
   "cell_type": "code",
   "execution_count": 174,
   "metadata": {
    "collapsed": true
   },
   "outputs": [],
   "source": [
    "import pandas as pd\n",
    "import sklearn.linear_model as skl\n",
    "import sklearn.neural_network as nn\n",
    "from sklearn.ensemble import RandomForestRegressor\n",
    "from sklearn.model_selection import cross_val_score, GridSearchCV, cross_val_predict\n",
    "import numpy as np"
   ]
  },
  {
   "cell_type": "markdown",
   "metadata": {},
   "source": [
    "# Clean train"
   ]
  },
  {
   "cell_type": "code",
   "execution_count": 175,
   "metadata": {
    "collapsed": true
   },
   "outputs": [],
   "source": [
    "df_train = pd.read_csv(\"data/train.csv\")"
   ]
  },
  {
   "cell_type": "code",
   "execution_count": 176,
   "metadata": {
    "collapsed": true
   },
   "outputs": [],
   "source": [
    "df_train.dropna(axis=0, inplace=True)"
   ]
  },
  {
   "cell_type": "code",
   "execution_count": 177,
   "metadata": {
    "collapsed": true
   },
   "outputs": [],
   "source": [
    "df_train['purchase_date'] = pd.to_datetime(df_train['purchase_date']).astype(int)/ 10**9\n",
    "df_train['release_date'] = pd.to_datetime(df_train['release_date']).astype(int)/ 10**9"
   ]
  },
  {
   "cell_type": "code",
   "execution_count": 178,
   "metadata": {
    "collapsed": false
   },
   "outputs": [],
   "source": [
    "categories = df_train['categories'].str.get_dummies(',')\n",
    "genres = df_train['genres'].str.get_dummies(',')\n",
    "categories.columns = ['cat_' + str(col) for col in categories.columns]\n",
    "genres.columns = ['genre_' + str(col) for col in genres.columns]"
   ]
  },
  {
   "cell_type": "code",
   "execution_count": 179,
   "metadata": {
    "collapsed": true
   },
   "outputs": [],
   "source": [
    "df_train = df_train.drop(['tags', 'is_free', 'categories', 'genres', 'purchase_date'], axis=1)"
   ]
  },
  {
   "cell_type": "code",
   "execution_count": 180,
   "metadata": {
    "collapsed": false
   },
   "outputs": [],
   "source": [
    "df_train = df_train.fillna(0)"
   ]
  },
  {
   "cell_type": "code",
   "execution_count": 181,
   "metadata": {
    "collapsed": false
   },
   "outputs": [],
   "source": [
    "df_train = df_train.join(categories).join(genres)"
   ]
  },
  {
   "cell_type": "code",
   "execution_count": 182,
   "metadata": {
    "collapsed": false
   },
   "outputs": [],
   "source": [
    "df_train.to_csv('./new_train.csv')"
   ]
  },
  {
   "cell_type": "markdown",
   "metadata": {},
   "source": [
    "# Clean test"
   ]
  },
  {
   "cell_type": "code",
   "execution_count": 183,
   "metadata": {
    "collapsed": true
   },
   "outputs": [],
   "source": [
    "df_test = pd.read_csv(\"data/test.csv\")"
   ]
  },
  {
   "cell_type": "code",
   "execution_count": 184,
   "metadata": {
    "collapsed": true
   },
   "outputs": [],
   "source": [
    "df_test['purchase_date'] = pd.to_datetime(df_test['purchase_date']).astype(int)/ 10**9\n",
    "df_test['release_date'] = pd.to_datetime(df_test['release_date']).astype(int)/ 10**9"
   ]
  },
  {
   "cell_type": "code",
   "execution_count": 185,
   "metadata": {
    "collapsed": false
   },
   "outputs": [],
   "source": [
    "categories = df_test['categories'].str.get_dummies(',')\n",
    "genres = df_test['genres'].str.get_dummies(',')\n",
    "categories.columns = ['cat_' + str(col) for col in categories.columns]\n",
    "genres.columns = ['genre_' + str(col) for col in genres.columns]"
   ]
  },
  {
   "cell_type": "code",
   "execution_count": 186,
   "metadata": {
    "collapsed": false
   },
   "outputs": [],
   "source": [
    "df_test = df_test.drop(['tags', 'is_free', 'categories', 'genres', 'purchase_date'], axis=1)"
   ]
  },
  {
   "cell_type": "code",
   "execution_count": 187,
   "metadata": {
    "collapsed": false
   },
   "outputs": [],
   "source": [
    "df_test = df_test.fillna(0)"
   ]
  },
  {
   "cell_type": "code",
   "execution_count": 188,
   "metadata": {
    "collapsed": false
   },
   "outputs": [],
   "source": [
    "df_test = df_test.join(categories).join(genres)"
   ]
  },
  {
   "cell_type": "markdown",
   "metadata": {},
   "source": [
    "# Sync train and test"
   ]
  },
  {
   "cell_type": "code",
   "execution_count": 189,
   "metadata": {
    "collapsed": true
   },
   "outputs": [],
   "source": [
    "cols_to_add_to_test = []\n",
    "cols_to_add_to_train = []"
   ]
  },
  {
   "cell_type": "code",
   "execution_count": 190,
   "metadata": {
    "collapsed": false
   },
   "outputs": [],
   "source": [
    "train_cat = [col for col in df_train.columns if col.startswith('cat_')]\n",
    "test_cat = [col for col in df_test.columns if col.startswith('cat_')]"
   ]
  },
  {
   "cell_type": "code",
   "execution_count": 191,
   "metadata": {
    "collapsed": true
   },
   "outputs": [],
   "source": [
    "cols_to_add_to_test.extend(list(set(train_cat) - set(test_cat)))\n",
    "cols_to_add_to_train.extend(list(set(test_cat) - set(train_cat)))"
   ]
  },
  {
   "cell_type": "code",
   "execution_count": 192,
   "metadata": {
    "collapsed": true
   },
   "outputs": [],
   "source": [
    "train_genre = [col for col in df_train.columns if col.startswith('genre_')]\n",
    "test_genre = [col for col in df_test.columns if col.startswith('genre_')]"
   ]
  },
  {
   "cell_type": "code",
   "execution_count": 193,
   "metadata": {
    "collapsed": true
   },
   "outputs": [],
   "source": [
    "cols_to_add_to_test.extend(list(set(train_genre) - set(test_genre)))\n",
    "cols_to_add_to_train.extend(list(set(test_genre) - set(train_genre)))"
   ]
  },
  {
   "cell_type": "code",
   "execution_count": 194,
   "metadata": {
    "collapsed": true
   },
   "outputs": [],
   "source": [
    "train_tag = [col for col in df_train.columns if col.startswith('tag_')]\n",
    "test_tag = [col for col in df_test.columns if col.startswith('tag_')]"
   ]
  },
  {
   "cell_type": "code",
   "execution_count": 195,
   "metadata": {
    "collapsed": true
   },
   "outputs": [],
   "source": [
    "cols_to_add_to_test.extend(list(set(train_tag) - set(test_tag)))\n",
    "cols_to_add_to_train.extend(list(set(test_tag) - set(train_tag)))"
   ]
  },
  {
   "cell_type": "code",
   "execution_count": 196,
   "metadata": {
    "collapsed": false
   },
   "outputs": [],
   "source": [
    "for col in cols_to_add_to_train:\n",
    "    df_train[col] = 0\n",
    "    "
   ]
  },
  {
   "cell_type": "code",
   "execution_count": 197,
   "metadata": {
    "collapsed": true
   },
   "outputs": [],
   "source": [
    "for col in cols_to_add_to_test:\n",
    "    df_test[col] = 0"
   ]
  },
  {
   "cell_type": "markdown",
   "metadata": {},
   "source": [
    "## Train linear reg"
   ]
  },
  {
   "cell_type": "code",
   "execution_count": 198,
   "metadata": {
    "collapsed": true
   },
   "outputs": [],
   "source": [
    "training_data = df_train.loc[ : int(len(df_train)*0.8), :]\n",
    "testing_data = df_train.loc[int(len(df_train)*0.8) : , :]\n",
    "submission_data = df_test"
   ]
  },
  {
   "cell_type": "code",
   "execution_count": 199,
   "metadata": {
    "collapsed": true
   },
   "outputs": [],
   "source": [
    "def mean_square_error(predict_y, y):\n",
    "    N = predict_y.shape[0]\n",
    "    return np.sum((predict_y - y) ** 2) / N"
   ]
  },
  {
   "cell_type": "code",
   "execution_count": 200,
   "metadata": {
    "collapsed": false
   },
   "outputs": [
    {
     "data": {
      "text/plain": [
       "LinearRegression(copy_X=True, fit_intercept=True, n_jobs=None, normalize=False)"
      ]
     },
     "execution_count": 200,
     "metadata": {},
     "output_type": "execute_result"
    }
   ],
   "source": [
    "linear_model = skl.LinearRegression()\n",
    "linear_model.fit(training_data.drop([\"playtime_forever\"], axis = 1), training_data[\"playtime_forever\"])\n"
   ]
  },
  {
   "cell_type": "code",
   "execution_count": 201,
   "metadata": {
    "collapsed": false,
    "scrolled": true
   },
   "outputs": [
    {
     "name": "stdout",
     "output_type": "stream",
     "text": [
      "83.49518106098313\n"
     ]
    }
   ],
   "source": [
    "predict_train = linear_model.predict(training_data.drop([\"playtime_forever\"], axis = 1))\n",
    "predict_train = predict_train.clip(min=0)\n",
    "print(mean_square_error(predict_train, training_data[\"playtime_forever\"]))"
   ]
  },
  {
   "cell_type": "code",
   "execution_count": 202,
   "metadata": {
    "collapsed": false,
    "scrolled": true
   },
   "outputs": [
    {
     "name": "stdout",
     "output_type": "stream",
     "text": [
      "110.66477847978439\n"
     ]
    }
   ],
   "source": [
    "predict_test = linear_model.predict(testing_data.drop([\"playtime_forever\"], axis = 1))\n",
    "predict_test = predict_test.clip(min=0)\n",
    "print(mean_square_error(predict_test, testing_data[\"playtime_forever\"]))"
   ]
  },
  {
   "cell_type": "code",
   "execution_count": 203,
   "metadata": {
    "collapsed": false
   },
   "outputs": [],
   "source": [
    "predict_submission_linear_reg = linear_model.predict(submission_data)\n",
    "predict_submission_linear_reg = predict_submission_linear_reg.clip(min=0)"
   ]
  },
  {
   "cell_type": "code",
   "execution_count": 204,
   "metadata": {
    "collapsed": false
   },
   "outputs": [
    {
     "data": {
      "text/plain": [
       "array([ 0.        ,  0.        ,  5.32157828,  0.        ,  5.62159965,\n",
       "        1.18138046, 15.87705637,  0.        ,  0.        ,  0.        ,\n",
       "        5.49473624,  0.        ,  0.48587745,  9.17190904,  0.        ,\n",
       "        0.        ,  5.72304947,  8.13023063,  0.        ,  0.        ,\n",
       "        0.        ,  0.        ,  1.03095241,  5.80020168,  4.93379886,\n",
       "        0.        ,  0.        ,  4.99343043,  2.53117607,  0.        ,\n",
       "        4.33669581,  8.77304359,  0.        ,  0.        ,  0.        ,\n",
       "        6.51408681,  0.        ,  9.85812202,  0.94393719,  0.        ,\n",
       "        0.        ,  0.        ,  0.        ,  1.21406801,  4.74160813,\n",
       "        0.        ,  2.7756235 ,  3.35828015,  0.        ,  0.        ,\n",
       "       25.48602354,  8.09521951,  0.        ,  0.        ,  0.        ,\n",
       "        1.72162459, 10.89134748,  0.        ,  1.958089  ,  0.        ,\n",
       "        2.93345271,  0.        ,  6.22170689,  0.        ,  3.33747627,\n",
       "        4.85549798,  0.        , 10.0210042 ,  0.        ,  7.62913922,\n",
       "        7.93622566,  3.14395922,  0.        , 10.14523115, 11.54547553,\n",
       "       14.5484372 ,  2.28026086,  3.60508595,  0.        ,  7.30161138,\n",
       "       12.24037141,  9.82436339,  0.        ,  0.        ,  0.        ,\n",
       "        0.        ,  0.        ,  2.80635062,  0.        ,  0.        ])"
      ]
     },
     "execution_count": 204,
     "metadata": {},
     "output_type": "execute_result"
    }
   ],
   "source": [
    "predict_submission_linear_reg"
   ]
  },
  {
   "cell_type": "markdown",
   "metadata": {},
   "source": [
    "# Train random forest"
   ]
  },
  {
   "cell_type": "code",
   "execution_count": 205,
   "metadata": {
    "collapsed": true
   },
   "outputs": [],
   "source": [
    "def rfr_model(X, y):\n",
    "# Perform Grid-Search\n",
    "    gsc = GridSearchCV(\n",
    "        estimator=RandomForestRegressor(),\n",
    "        param_grid={\n",
    "            'max_depth': range(3,7),\n",
    "            'n_estimators': (10, 50, 100, 1000),\n",
    "        },\n",
    "        cv=5, scoring='neg_mean_squared_error', verbose=0,                         n_jobs=-1)\n",
    "    \n",
    "    grid_result = gsc.fit(X, y)\n",
    "    return grid_result"
   ]
  },
  {
   "cell_type": "code",
   "execution_count": 216,
   "metadata": {
    "collapsed": false,
    "scrolled": true
   },
   "outputs": [
    {
     "name": "stdout",
     "output_type": "stream",
     "text": [
      "47.600715486796354\n"
     ]
    },
    {
     "name": "stderr",
     "output_type": "stream",
     "text": [
      "/Users/Navie/anaconda3/lib/python3.7/site-packages/sklearn/model_selection/_search.py:813: DeprecationWarning: The default of the `iid` parameter will change from True to False in version 0.22 and will be removed in 0.24. This will change numeric results when test-set sizes are unequal.\n",
      "  DeprecationWarning)\n"
     ]
    }
   ],
   "source": [
    "rfr = rfr_model(training_data.drop([\"playtime_forever\"], axis = 1), training_data[\"playtime_forever\"])\n",
    "predict_train = rfr.predict(training_data.drop([\"playtime_forever\"], axis = 1))\n",
    "predict_train = predict_train.clip(min=0)\n",
    "print(mean_square_error(predict_train, training_data[\"playtime_forever\"]))"
   ]
  },
  {
   "cell_type": "code",
   "execution_count": 217,
   "metadata": {
    "collapsed": false
   },
   "outputs": [
    {
     "name": "stdout",
     "output_type": "stream",
     "text": [
      "67.30402578772147\n"
     ]
    }
   ],
   "source": [
    "predict_test = rfr.predict(testing_data.drop([\"playtime_forever\"], axis = 1))\n",
    "predict_test = predict_test.clip(min=0)\n",
    "print(mean_square_error(predict_test, testing_data[\"playtime_forever\"]))"
   ]
  },
  {
   "cell_type": "code",
   "execution_count": 218,
   "metadata": {
    "collapsed": true
   },
   "outputs": [],
   "source": [
    "predict_submission_random_forest = rfr.predict(submission_data)\n",
    "predict_submission_random_forest = predict_submission_random_forest.clip(min=0)"
   ]
  },
  {
   "cell_type": "code",
   "execution_count": 219,
   "metadata": {
    "collapsed": false
   },
   "outputs": [
    {
     "data": {
      "text/plain": [
       "array([ 5.37564167,  6.18476719,  5.18027908,  7.3318267 , 11.94341838,\n",
       "        5.18027908,  1.00921987,  1.00921987,  5.93576133,  3.35613008,\n",
       "        1.1900328 ,  1.19057964,  1.00921987,  1.36058955,  7.76425268,\n",
       "        1.07939267,  1.78143416,  1.07939267,  1.07939267,  1.07939267,\n",
       "        1.07939267,  1.45611502,  1.26075243,  1.07939267,  1.07939267,\n",
       "        1.07939267,  1.07939267,  1.07939267,  1.45611502,  1.26075243,\n",
       "        1.26075243, 13.39857276,  1.07939267,  1.07939267,  1.26075243,\n",
       "        1.07939267,  1.26075243,  1.96196175,  1.07939267,  1.26075243,\n",
       "        1.62612493,  1.43076234,  3.43445702,  1.07939267,  1.07939267,\n",
       "        1.07939267,  1.26075243,  1.26020559,  2.55858043, 18.59811194,\n",
       "        1.78143416,  1.43076234,  1.26075243,  1.45556818,  1.26075243,\n",
       "        1.07939267,  4.26290654,  1.07939267,  1.07939267,  1.07939267,\n",
       "        1.07939267,  1.07939267,  1.07939267, 10.35387254,  1.07939267,\n",
       "        1.07939267,  1.07939267,  1.78143416,  3.43445702,  1.07939267,\n",
       "        1.78143416, 22.44868624,  1.26075243, 43.29888811,  1.78143416,\n",
       "       42.83704287,  9.06947989,  1.62612493,  1.07939267,  1.07939267,\n",
       "        1.07939267,  1.07939267,  1.07939267, 13.31246976,  1.62612493,\n",
       "        1.43076234,  1.07939267, 23.05385865,  1.78143416,  3.54185866])"
      ]
     },
     "execution_count": 219,
     "metadata": {},
     "output_type": "execute_result"
    }
   ],
   "source": [
    "predict_submission_random_forest"
   ]
  },
  {
   "cell_type": "code",
   "execution_count": null,
   "metadata": {
    "collapsed": true
   },
   "outputs": [],
   "source": []
  }
 ],
 "metadata": {
  "kernelspec": {
   "display_name": "Python 3",
   "language": "python",
   "name": "python3"
  },
  "language_info": {
   "codemirror_mode": {
    "name": "ipython",
    "version": 3
   },
   "file_extension": ".py",
   "mimetype": "text/x-python",
   "name": "python",
   "nbconvert_exporter": "python",
   "pygments_lexer": "ipython3",
   "version": "3.7.3"
  }
 },
 "nbformat": 4,
 "nbformat_minor": 0
}
